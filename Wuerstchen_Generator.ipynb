{
  "nbformat": 4,
  "nbformat_minor": 0,
  "metadata": {
    "colab": {
      "private_outputs": true,
      "provenance": [],
      "gpuType": "T4",
      "authorship_tag": "ABX9TyOxl0oFy7yJ/3K3v3gGIWfL",
      "include_colab_link": true
    },
    "kernelspec": {
      "name": "python3",
      "display_name": "Python 3"
    },
    "language_info": {
      "name": "python"
    },
    "accelerator": "GPU"
  },
  "cells": [
    {
      "cell_type": "markdown",
      "metadata": {
        "id": "view-in-github",
        "colab_type": "text"
      },
      "source": [
        "<a href=\"https://colab.research.google.com/github/BarrenWardo/Wuerstchen-Colab/blob/main/Wuerstchen_Generator.ipynb\" target=\"_parent\"><img src=\"https://colab.research.google.com/assets/colab-badge.svg\" alt=\"Open In Colab\"/></a>"
      ]
    },
    {
      "cell_type": "code",
      "execution_count": null,
      "metadata": {
        "id": "uccaUMP-Z9tN"
      },
      "outputs": [],
      "source": [
        "!pip install diffusers"
      ]
    },
    {
      "cell_type": "code",
      "source": [
        "!pip install transformers"
      ],
      "metadata": {
        "id": "B9mxQcsEaWz8"
      },
      "execution_count": null,
      "outputs": []
    },
    {
      "cell_type": "code",
      "source": [
        "!pip install accelerate"
      ],
      "metadata": {
        "id": "Kg7_kzcsbbUA"
      },
      "execution_count": null,
      "outputs": []
    },
    {
      "cell_type": "code",
      "source": [
        "import torch\n",
        "from diffusers import AutoPipelineForText2Image\n",
        "\n",
        "device = \"cuda\"\n",
        "dtype = torch.float16\n",
        "\n",
        "pipeline =  AutoPipelineForText2Image.from_pretrained(\n",
        "    \"warp-diffusion/wuerstchen\", torch_dtype=dtype\n",
        ").to(device)"
      ],
      "metadata": {
        "id": "2ChkYNBxaGLq"
      },
      "execution_count": null,
      "outputs": []
    },
    {
      "cell_type": "code",
      "source": [
        "# @title Generator\n",
        "Prompt = \"A puppy in formal suit\" # @param {type:\"string\"}\n",
        "\n",
        "output = pipeline(\n",
        "    prompt=Prompt,\n",
        "    height=1024,\n",
        "    width=1024,\n",
        "    prior_guidance_scale=4.0,\n",
        "    decoder_guidance_scale=0.0,\n",
        ").images\n",
        "\n",
        "output[0]"
      ],
      "metadata": {
        "id": "a71G6LkwaLHy"
      },
      "execution_count": null,
      "outputs": []
    }
  ]
}